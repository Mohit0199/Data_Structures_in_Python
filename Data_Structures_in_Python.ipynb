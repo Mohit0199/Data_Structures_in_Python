{
 "cells": [
  {
   "cell_type": "code",
   "execution_count": 1,
   "id": "bcd80478-6e4d-46ac-b684-7023edce489f",
   "metadata": {},
   "outputs": [
    {
     "name": "stdout",
     "output_type": "stream",
     "text": [
      "dlroW olleH\n"
     ]
    }
   ],
   "source": [
    "#(1) Write a code to reverse a string\n",
    "\n",
    "s = \"Hello World\"\n",
    "print(s[::-1])"
   ]
  },
  {
   "cell_type": "code",
   "execution_count": 2,
   "id": "b4460a09-6e04-4a93-8808-12bd854a00fb",
   "metadata": {},
   "outputs": [
    {
     "name": "stdin",
     "output_type": "stream",
     "text": [
      " hi my name is mohit\n"
     ]
    },
    {
     "name": "stdout",
     "output_type": "stream",
     "text": [
      "Total Number vowels present in a string is  6\n"
     ]
    }
   ],
   "source": [
    "#(2) Write a code to count the number of vowels in a string.\n",
    "\n",
    "vowels = ['a', 'e', 'i', 'o', 'u']\n",
    "string = input()\n",
    "count = 0\n",
    "for i in string:\n",
    "    if i in vowels:\n",
    "        count += 1\n",
    "print('Total Number vowels present in a string is ', count)        "
   ]
  },
  {
   "cell_type": "code",
   "execution_count": 7,
   "id": "1015ef02-c6f5-4bf9-9d1a-dc0f53180c0e",
   "metadata": {},
   "outputs": [
    {
     "name": "stdin",
     "output_type": "stream",
     "text": [
      " nayan\n"
     ]
    },
    {
     "name": "stdout",
     "output_type": "stream",
     "text": [
      "A palindrome string\n"
     ]
    }
   ],
   "source": [
    "#(3)  Write a code to check if a given string is a palindrome or not.\n",
    "\n",
    "string = input()\n",
    "string.lower()\n",
    "string.replace(' ', '')\n",
    "if string == string[::-1]:\n",
    "    print('A palindrome string')\n",
    "else:\n",
    "    print('Not a palindrome string')"
   ]
  },
  {
   "cell_type": "code",
   "execution_count": 8,
   "id": "1d0824ee-6691-48be-b293-f9da16e0b49d",
   "metadata": {},
   "outputs": [
    {
     "name": "stdin",
     "output_type": "stream",
     "text": [
      " listen\n",
      " silent\n"
     ]
    },
    {
     "name": "stdout",
     "output_type": "stream",
     "text": [
      "Both strings are anagrams of each other\n"
     ]
    }
   ],
   "source": [
    "#(4) Write a code to check if two given strings are anagrams of each other.\n",
    "\n",
    "string1 = input()\n",
    "string2 = input()\n",
    "l1 = sorted(list(string1))\n",
    "l2 = sorted(list(string2))\n",
    "\n",
    "if l1 == l2:\n",
    "    print('Both strings are anagrams of each other')\n",
    "else:\n",
    "    print('Both strings are not anagrams of each other')"
   ]
  },
  {
   "cell_type": "code",
   "execution_count": 10,
   "id": "fc561869-9f80-4aaf-ace3-5c5c656a2b30",
   "metadata": {},
   "outputs": [
    {
     "name": "stdin",
     "output_type": "stream",
     "text": [
      "  welcome to PWSkills! PWSkills have many courses.\n",
      " PWSkills\n"
     ]
    },
    {
     "name": "stdout",
     "output_type": "stream",
     "text": [
      "[12, 22]\n"
     ]
    }
   ],
   "source": [
    "#(5)  Write a code to find all occurrences of a given substring within another string.\n",
    "\n",
    "string = input()\n",
    "sub_str = input()\n",
    "\n",
    "occurance = [i for i in range(len(string)) if string.startswith(sub_str, i)]\n",
    "print(occurance)"
   ]
  },
  {
   "cell_type": "code",
   "execution_count": 11,
   "id": "9bdeeea2-9a0a-492d-bd0f-5de42c9772ef",
   "metadata": {},
   "outputs": [
    {
     "name": "stdin",
     "output_type": "stream",
     "text": [
      " aabbbcccdddd\n"
     ]
    },
    {
     "name": "stdout",
     "output_type": "stream",
     "text": [
      "a2b3c3d4\n"
     ]
    }
   ],
   "source": [
    "#(6)  Write a code to perform basic string compression using the counts of repeated characters.\n",
    "\n",
    "string = input()\n",
    "\n",
    "result = \"\"\n",
    "count = 1\n",
    "for i in range(1, len(string)):\n",
    "    if string[i - 1] == string[i]:\n",
    "        count += 1\n",
    "    else:\n",
    "        result = result + string[i - 1]\n",
    "        if count > 1:\n",
    "            result += str(count)\n",
    "        count = 1\n",
    "result = result + string[-1]\n",
    "if count > 1:\n",
    "    result += str(count)\n",
    "print(result)"
   ]
  },
  {
   "cell_type": "code",
   "execution_count": 12,
   "id": "4249cf34-f33e-4bf8-a4f2-710b02e9f9a8",
   "metadata": {},
   "outputs": [
    {
     "name": "stdin",
     "output_type": "stream",
     "text": [
      " abcd efg\n"
     ]
    },
    {
     "name": "stdout",
     "output_type": "stream",
     "text": [
      "The string has all unique characters.\n"
     ]
    }
   ],
   "source": [
    "#(7) Write a code to determine if a string has all unique characters.\n",
    "\n",
    "string = input()\n",
    "\n",
    "char = []\n",
    "\n",
    "for i in string:\n",
    "    if i in char:\n",
    "        print(\"The string does not have all unique characters.\")\n",
    "        break\n",
    "    else:\n",
    "        char.append(i)\n",
    "else:\n",
    "    print(\"The string has all unique characters.\")"
   ]
  },
  {
   "cell_type": "code",
   "execution_count": 13,
   "id": "11032be5-6bd4-4235-aae1-5580dda13f6d",
   "metadata": {},
   "outputs": [
    {
     "name": "stdin",
     "output_type": "stream",
     "text": [
      " Mohit Rathod\n",
      " upper\n"
     ]
    },
    {
     "name": "stdout",
     "output_type": "stream",
     "text": [
      "MOHIT RATHOD\n"
     ]
    }
   ],
   "source": [
    "#(8)  Write a code to convert a given string to uppercase or lowercase.\n",
    "\n",
    "string = input()\n",
    "convert_to = input().lower()\n",
    "if convert_to == 'lower':\n",
    "    print(string.lower())\n",
    "if convert_to  == 'upper':\n",
    "    print(string.upper())\n"
   ]
  },
  {
   "cell_type": "code",
   "execution_count": 14,
   "id": "29909fc5-956c-4958-92ad-9e4108cad660",
   "metadata": {},
   "outputs": [
    {
     "name": "stdin",
     "output_type": "stream",
     "text": [
      " Welcome to Data Science with Gen AI course!\n"
     ]
    },
    {
     "name": "stdout",
     "output_type": "stream",
     "text": [
      "Total words present in the string are  8\n"
     ]
    }
   ],
   "source": [
    "#(9)  Write a code to count the number of words in a string.\n",
    "\n",
    "string = input()\n",
    "l = string.split()\n",
    "print(\"Total words present in the string are \", len(l))"
   ]
  },
  {
   "cell_type": "code",
   "execution_count": 15,
   "id": "b7277511-dbda-451d-a810-f6cd04258755",
   "metadata": {},
   "outputs": [
    {
     "name": "stdin",
     "output_type": "stream",
     "text": [
      " Hello\n",
      " Have a Good Day!!\n"
     ]
    },
    {
     "name": "stdout",
     "output_type": "stream",
     "text": [
      "Hello Have a Good Day!!\n"
     ]
    }
   ],
   "source": [
    "#(10)  Write a code to concatenate two strings without using the + operator.\n",
    "\n",
    "string1 = input()\n",
    "string2 = input()\n",
    "concat_str = ' '.join([string1, string2])\n",
    "print(concat_str)"
   ]
  },
  {
   "cell_type": "code",
   "execution_count": 15,
   "id": "a69c24b2-60b2-4291-a419-520726695617",
   "metadata": {},
   "outputs": [
    {
     "name": "stdin",
     "output_type": "stream",
     "text": [
      "Type here (seperated by ',') 4,3,2,14,5,4,0,0,4\n",
      "Which element to remove:  4\n"
     ]
    },
    {
     "name": "stdout",
     "output_type": "stream",
     "text": [
      "List after removing a sepcific element\n",
      " ['3', '2', '14', '5', '0', '0']\n"
     ]
    }
   ],
   "source": [
    "#(11) Write a code to remove all occurrences of a specific element from a list.\n",
    "\n",
    "list1 = input(\"Type here (seperated by ',')\").split(',')\n",
    "ele = input('Which element to remove: ')\n",
    "while ele in list1:\n",
    "    list1.remove(ele)\n",
    "print('List after removing a sepcific element\\n', list1)"
   ]
  },
  {
   "cell_type": "code",
   "execution_count": 16,
   "id": "154610d9-660e-4538-b3de-c891eca0f7a8",
   "metadata": {},
   "outputs": [
    {
     "name": "stdin",
     "output_type": "stream",
     "text": [
      "Type here (seperated by ',') 5,6,4,3,5,9,0,9,7\n"
     ]
    },
    {
     "name": "stdout",
     "output_type": "stream",
     "text": [
      "The second largest number in list is 7\n"
     ]
    }
   ],
   "source": [
    "#(12)   Implement a code to find the second largest number in a given list of integer.\n",
    "\n",
    "input_list = input(\"Type here (seperated by ',')\").split(',')\n",
    "list1 = [int(i) for i in input_list]\n",
    "list1 = list(set(list1)) #to remove duplicates as if there are a duplicates of max number in list\n",
    "list1.sort()\n",
    "result = list1[-2]\n",
    "print('The second largest number in list is', result)"
   ]
  },
  {
   "cell_type": "code",
   "execution_count": 17,
   "id": "1f1e43ec-8b27-4741-86e9-0ccc114ea1fa",
   "metadata": {},
   "outputs": [
    {
     "name": "stdin",
     "output_type": "stream",
     "text": [
      "Type here (seperated by ',') 4,6,5,4,21,1,5,1\n"
     ]
    },
    {
     "name": "stdout",
     "output_type": "stream",
     "text": [
      "{'4': 2, '6': 1, '5': 2, '21': 1, '1': 2}\n"
     ]
    }
   ],
   "source": [
    "#(13) Create a code to count the occurance of each element in a list and return a dictionary with elements as keys and their counts as values.\n",
    "\n",
    "input_list = input(\"Type here (seperated by ',')\").split(',')\n",
    "dic = {}\n",
    "for i in input_list:\n",
    "    dic[i] = input_list.count(i)\n",
    "print(dic)"
   ]
  },
  {
   "cell_type": "code",
   "execution_count": 18,
   "id": "52b2b825-570e-4472-96a0-e80102343243",
   "metadata": {},
   "outputs": [
    {
     "name": "stdin",
     "output_type": "stream",
     "text": [
      "Type here (seperated by ',') 4,6,7,3,2\n"
     ]
    },
    {
     "name": "stdout",
     "output_type": "stream",
     "text": [
      "Original List:  ['4', '6', '7', '3', '2']\n",
      "Reversed List:  ['2', '3', '7', '6', '4']\n"
     ]
    }
   ],
   "source": [
    "#(14) Write a code to reverse a list in-place without using any built-in reverse functions.\n",
    "\n",
    "input_list = input(\"Type here (seperated by ',')\").split(',')\n",
    "reverse_list = input_list[: : -1]\n",
    "\n",
    "print(\"Original List: \", input_list)\n",
    "print(\"Reversed List: \", reverse_list)"
   ]
  },
  {
   "cell_type": "code",
   "execution_count": 19,
   "id": "521523f9-08d2-45e3-960e-da1b646c1316",
   "metadata": {},
   "outputs": [
    {
     "name": "stdin",
     "output_type": "stream",
     "text": [
      "Type here (seperated by ',') 4,5,3,2,4,2,6,5\n"
     ]
    },
    {
     "name": "stdout",
     "output_type": "stream",
     "text": [
      "Original List: ['4', '5', '3', '2', '4', '2', '6', '5']\n",
      "After removing Duplicates: ['4', '5', '3', '2', '6']\n"
     ]
    }
   ],
   "source": [
    "#(15) Implement a code to find and remove duplicates from a list while preserving the original order of elements.\n",
    "\n",
    "input_list = input(\"Type here (seperated by ',')\").split(',')\n",
    "\n",
    "temp = []\n",
    "result = []\n",
    "\n",
    "for i in input_list:\n",
    "    if i not in temp:\n",
    "        temp.append(i)\n",
    "        result.append(i)\n",
    "\n",
    "print(\"Original List:\", input_list)\n",
    "print(\"After removing Duplicates:\", result)"
   ]
  },
  {
   "cell_type": "code",
   "execution_count": 20,
   "id": "0e8944cb-c851-4ed9-b60e-1d2207de7e40",
   "metadata": {},
   "outputs": [
    {
     "name": "stdin",
     "output_type": "stream",
     "text": [
      "Type here (seperated by ',') 4,6,7,9\n"
     ]
    },
    {
     "name": "stdout",
     "output_type": "stream",
     "text": [
      "The given list is sorted\n"
     ]
    }
   ],
   "source": [
    "#(16)  Create a code to check if a given list is sorted (either in ascending or descending order) or not.\n",
    "\n",
    "input_list = input(\"Type here (seperated by ',')\").split(',')\n",
    "\n",
    "if (input_list == sorted(input_list)) or (input_list == sorted(input_list, reverse=True)):\n",
    "    print('The given list is sorted')\n",
    "else:\n",
    "    print('The given list is not sorted')"
   ]
  },
  {
   "cell_type": "code",
   "execution_count": 21,
   "id": "07f9190c-b1d3-40af-ac1e-bef7894b4f02",
   "metadata": {},
   "outputs": [
    {
     "name": "stdin",
     "output_type": "stream",
     "text": [
      "Type here (seperated by ',') 5,7,3,1\n",
      "Type here (seperated by ',') 2,9,0,6\n"
     ]
    },
    {
     "name": "stdout",
     "output_type": "stream",
     "text": [
      "Sorted List1: ['1', '3', '5', '7']\n",
      "Sorted List2: ['0', '2', '6', '9']\n",
      "Single merged sorted list: ['0', '1', '2', '3', '5', '6', '7', '9']\n"
     ]
    }
   ],
   "source": [
    "#(17)  Write a code to merge two sorted lists into a single sorted list\n",
    "\n",
    "lst1 = input(\"Type here (seperated by ',')\").split(',')\n",
    "lst2 = input(\"Type here (seperated by ',')\").split(',')\n",
    "\n",
    "lst1.sort()\n",
    "lst2.sort()\n",
    "\n",
    "new_list = lst1 + lst2\n",
    "new_list.sort()\n",
    "\n",
    "print(\"Sorted List1:\", lst1)\n",
    "print(\"Sorted List2:\", lst2)\n",
    "print(\"Single merged sorted list:\", new_list)"
   ]
  },
  {
   "cell_type": "code",
   "execution_count": 22,
   "id": "1e714f38-3b7e-4856-833b-6df232e21381",
   "metadata": {},
   "outputs": [
    {
     "name": "stdin",
     "output_type": "stream",
     "text": [
      "Type here (seperated by ',') 8,0,2,4,5\n",
      "Type here (seperated by ',') 0,1,4,9,3\n"
     ]
    },
    {
     "name": "stdout",
     "output_type": "stream",
     "text": [
      "Intersected List: ['0', '4']\n"
     ]
    }
   ],
   "source": [
    "#(18)  Implement a code to find the intersection of two given lists.\n",
    "\n",
    "lst1 = input(\"Type here (seperated by ',')\").split(',')\n",
    "lst2 = input(\"Type here (seperated by ',')\").split(',')\n",
    "\n",
    "intersection_list = [i for i in lst1 if i in lst2]\n",
    "print(\"Intersected List:\", intersection_list)"
   ]
  },
  {
   "cell_type": "code",
   "execution_count": 23,
   "id": "0e9e6f9a-47e8-4fdb-b954-e4d5dc5ffd46",
   "metadata": {},
   "outputs": [
    {
     "name": "stdin",
     "output_type": "stream",
     "text": [
      "Type here (seperated by ',') 5,7,4,3\n",
      "Type here (seperated by ',') 1,2,5,9\n"
     ]
    },
    {
     "name": "stdout",
     "output_type": "stream",
     "text": [
      "Union List without duplicated: ['5', '2', '9', '4', '1', '3', '7']\n"
     ]
    }
   ],
   "source": [
    "#(19) Create a code to find the union of two lists without duplicates.\n",
    "\n",
    "lst1 = input(\"Type here (seperated by ',')\").split(',')\n",
    "lst2 = input(\"Type here (seperated by ',')\").split(',')\n",
    "\n",
    "union_list = list(set(lst1 + lst2))\n",
    "            \n",
    "print(\"Union List without duplicated:\", union_list)            "
   ]
  },
  {
   "cell_type": "code",
   "execution_count": 26,
   "id": "b1b21ced-4b75-4e00-8edb-ea24d8916a28",
   "metadata": {},
   "outputs": [
    {
     "name": "stdin",
     "output_type": "stream",
     "text": [
      "Type here (seperated by ',') 8,4,3,21,7\n"
     ]
    },
    {
     "name": "stdout",
     "output_type": "stream",
     "text": [
      "Shuffled List: ['3', '8', '4', '7', '21']\n"
     ]
    }
   ],
   "source": [
    "#(20)  Write a code to shuffle a given list randomly without using in built-in shuffle functions.\n",
    "\n",
    "input_list = input(\"Type here (seperated by ',')\").split(',')\n",
    "\n",
    "import random\n",
    "\n",
    "for i in range(len(input_list)-1, 0, -1):\n",
    "    j = random.randint(0, i + 1)\n",
    "    input_list[i], input_list[j] = input_list[j], input_list[i]\n",
    "\n",
    "print('Shuffled List:', input_list)"
   ]
  },
  {
   "cell_type": "code",
   "execution_count": 27,
   "id": "549aacbb-2e43-4c51-8c6d-7372e01471da",
   "metadata": {},
   "outputs": [
    {
     "name": "stdin",
     "output_type": "stream",
     "text": [
      "Type here (seperated by ',') 4,6,3,9,0\n",
      "Type here (seperated by ',') 1,0,4,8\n"
     ]
    },
    {
     "name": "stdout",
     "output_type": "stream",
     "text": [
      "New Tuple: ('4', '0')\n"
     ]
    }
   ],
   "source": [
    "#(21)  Write a code that takes two tuples as input and returns a new tuple containing elements that are common to both input tuples.\n",
    "\n",
    "input1 = input(\"Type here (seperated by ',')\").split(',')\n",
    "input2 = input(\"Type here (seperated by ',')\").split(',')\n",
    "\n",
    "tuple1 = tuple(input1)\n",
    "tuple2 = tuple(input2)\n",
    "\n",
    "set1 = set(tuple1)\n",
    "set2 = set(tuple2)\n",
    "\n",
    "temp = set1 & set2\n",
    "\n",
    "new_tuple = tuple(temp)\n",
    "print(\"New Tuple:\", new_tuple)"
   ]
  },
  {
   "cell_type": "code",
   "execution_count": 30,
   "id": "a177905b-2be4-4bd6-af3a-596107b82f9d",
   "metadata": {},
   "outputs": [
    {
     "name": "stdin",
     "output_type": "stream",
     "text": [
      "Type here (seperated by ',') 2,4,6,7,8,1,2\n",
      "Type here (seperated by ',') 3,4,9,6,1\n"
     ]
    },
    {
     "name": "stdout",
     "output_type": "stream",
     "text": [
      "Intersection of sets: {1, 4, 6}\n"
     ]
    }
   ],
   "source": [
    "#(22) Create a code that prompts the user to enter two sets of integers separated by commas. Then, print the interdection of these two sets.\n",
    "\n",
    "input1 = input(\"Type here (seperated by ',')\").split(',')\n",
    "input2 = input(\"Type here (seperated by ',')\").split(',')\n",
    "\n",
    "set1 = {int(i) for i in input1}\n",
    "set2 = {int(i) for i in input2}\n",
    "\n",
    "print('Intersection of sets:', set1&set2)"
   ]
  },
  {
   "cell_type": "code",
   "execution_count": 31,
   "id": "9b6366e8-082e-4e8d-816d-69ee605edaf6",
   "metadata": {},
   "outputs": [
    {
     "name": "stdin",
     "output_type": "stream",
     "text": [
      "Type here (seperated by ',') 2,4,5,6\n",
      "Type here (seperated by ',') 9,0,1,7\n"
     ]
    },
    {
     "name": "stdout",
     "output_type": "stream",
     "text": [
      "New Concatenated Tuple: ('2', '4', '5', '6', '9', '0', '1', '7')\n"
     ]
    }
   ],
   "source": [
    "#(23) Write a code to concatenate two tuples. The function should take two tuples as input and return a new tuple contsining elements from both input tuples.\n",
    "\n",
    "def tuple_concat(tuple1, tuple2):\n",
    "    return tuple1 + tuple2\n",
    "\n",
    "input1 = input(\"Type here (seperated by ',')\").split(',')\n",
    "input2 = input(\"Type here (seperated by ',')\").split(',')\n",
    "\n",
    "tuple1 = tuple(input1)\n",
    "tuple2 = tuple(input2)\n",
    "\n",
    "new_tuple = tuple_concat(tuple1, tuple2)\n",
    "print(\"New Concatenated Tuple:\", new_tuple)"
   ]
  },
  {
   "cell_type": "code",
   "execution_count": 33,
   "id": "92f019c7-4c2d-4070-83e7-388eea957e7b",
   "metadata": {},
   "outputs": [
    {
     "name": "stdin",
     "output_type": "stream",
     "text": [
      "Type here (seperated by ',') apple, mango, banana\n",
      "Type here (seperated by ',') kiwi, grapes\n"
     ]
    },
    {
     "name": "stdout",
     "output_type": "stream",
     "text": [
      "apple\n",
      " mango\n",
      " banana\n"
     ]
    }
   ],
   "source": [
    "#(24) Develop a code that prompts the user to input two sets of strings. Then print the elements that are present in the first set but not in the second set.\n",
    "\n",
    "input1 = input(\"Type here (seperated by ',')\").split(',')\n",
    "input2 = input(\"Type here (seperated by ',')\").split(',')\n",
    "\n",
    "set1 = set(input1)\n",
    "set2 = set(input2)\n",
    "\n",
    "new_set = set1 - set2\n",
    "\n",
    "for i in new_set:\n",
    "    print(i)"
   ]
  },
  {
   "cell_type": "code",
   "execution_count": 28,
   "id": "181bc4ab-5900-4faa-8082-770fe611a935",
   "metadata": {},
   "outputs": [
    {
     "name": "stdin",
     "output_type": "stream",
     "text": [
      "Type here (seperated by ',') 4,5,2,1,0,9,3,7\n",
      "Type here an integer 1\n",
      "Type here an integer 6\n"
     ]
    },
    {
     "name": "stdout",
     "output_type": "stream",
     "text": [
      "New Tuple ('5', '2', '1', '0', '9', '3')\n"
     ]
    }
   ],
   "source": [
    "#(25) Create a code that takes a tuple and two integers as input. The function should return a new tuple containing elements from the original tuple within the specified range of indicies.\n",
    "\n",
    "def func1(tuple1, int1, int2):\n",
    "    return tuple1[int1 : int2+1] # Both int1 and int2 are inclusive\n",
    "\n",
    "input_tuple = input(\"Type here (seperated by ',')\").split(',')\n",
    "int1 = int(input('Type here an integer'))\n",
    "int2 = int(input('Type here an integer'))\n",
    "\n",
    "tuple1 = tuple(input_tuple)\n",
    "\n",
    "new_tuple = func1(tuple1, int1, int2)\n",
    "print('New Tuple', new_tuple)"
   ]
  },
  {
   "cell_type": "code",
   "execution_count": 9,
   "id": "17f4cd5d-5d74-48d3-bdc6-5be0515fcc53",
   "metadata": {},
   "outputs": [
    {
     "name": "stdin",
     "output_type": "stream",
     "text": [
      "Type here (seperated by ',') 2,4,6,7\n",
      "Type here (seperated by ',') 1,3,8,9\n"
     ]
    },
    {
     "name": "stdout",
     "output_type": "stream",
     "text": [
      "Union set: {'2', '8', '6', '9', '4', '1', '3', '7'}\n"
     ]
    }
   ],
   "source": [
    "#(26) Write a code that prompts the user to input two sets of characters. Then print the union of these two sets.\n",
    "\n",
    "input1 = input(\"Type here (seperated by ',')\").split(',')\n",
    "input2 = input(\"Type here (seperated by ',')\").split(',')\n",
    "\n",
    "set1 = set(input1)\n",
    "set2 = set(input2)\n",
    "\n",
    "union_set = set1 | set2\n",
    "print(\"Union set:\", union_set)"
   ]
  },
  {
   "cell_type": "code",
   "execution_count": 10,
   "id": "84ec2b23-b04b-4958-b605-d454afe0ad7f",
   "metadata": {},
   "outputs": [
    {
     "name": "stdin",
     "output_type": "stream",
     "text": [
      "Type here (seperated by ',') 3,5,7,8,0\n"
     ]
    },
    {
     "name": "stdout",
     "output_type": "stream",
     "text": [
      "Max value: 8\n",
      "Min value: 0\n"
     ]
    }
   ],
   "source": [
    "#(27) Develop a code that takes a tuple of integers as input. The function should return the maximum and minimum values from the tuple using tuple unpacking.\n",
    "\n",
    "def func1(tuple1):\n",
    "    max_val = max(tuple1)\n",
    "    min_val = min(tuple1)\n",
    "    return (max_val, min_val)\n",
    "    \n",
    "input_tuple = input(\"Type here (seperated by ',')\").split(',')\n",
    "\n",
    "tuple1 = tuple([int(i) for i in input_tuple])\n",
    "result = func1(tuple1)\n",
    "\n",
    "print(\"Max value:\", result[0])\n",
    "print(\"Min value:\", result[1])"
   ]
  },
  {
   "cell_type": "code",
   "execution_count": 11,
   "id": "1aeffb2f-58bf-40f8-971d-fe634a1956d6",
   "metadata": {},
   "outputs": [
    {
     "name": "stdin",
     "output_type": "stream",
     "text": [
      "Type here (seperated by ',') 2,5,8,9\n",
      "Type here (seperated by ',') 1,8,3,5,0\n"
     ]
    },
    {
     "name": "stdout",
     "output_type": "stream",
     "text": [
      "Union Of Two Set: {0, 1, 2, 3, 5, 8, 9}\n",
      "Intersection Of Two Set: {8, 5}\n",
      "Difference Of Two Set: {9, 2}\n"
     ]
    }
   ],
   "source": [
    "#(28)  Create a code that defines two sets of integers. Then print the union intersection and difference of these two sets.\n",
    "\n",
    "input1 = input(\"Type here (seperated by ',')\").split(',')\n",
    "input2 = input(\"Type here (seperated by ',')\").split(',')\n",
    "\n",
    "set1 = set([int(i) for i in input1])\n",
    "set2 = set([int(i) for i in input2])\n",
    "\n",
    "union_set = set1 | set2\n",
    "intersection_set = set1 & set2\n",
    "difference_set = set1 - set2\n",
    "\n",
    "print(\"Union Of Two Set:\", union_set)\n",
    "print(\"Intersection Of Two Set:\", intersection_set)\n",
    "print(\"Difference Of Two Set:\", difference_set)"
   ]
  },
  {
   "cell_type": "code",
   "execution_count": 13,
   "id": "267bfbe6-c10c-4bec-a1e9-8549ebfa8bfa",
   "metadata": {},
   "outputs": [
    {
     "name": "stdin",
     "output_type": "stream",
     "text": [
      "Type here (seperated by ',') a,b,c,e,a,h,a,i\n",
      "Type a element to count of occurence: a\n"
     ]
    },
    {
     "name": "stdout",
     "output_type": "stream",
     "text": [
      "Count of Occurence of Input Element: 3\n"
     ]
    }
   ],
   "source": [
    "#(29) Write a code that takes a tuple and an element as input. The function should return the count of occurrenes of the given element in the tuple.\n",
    "\n",
    "def func1(tuple1, ele):\n",
    "    count_of_element = tuple1.count(ele)\n",
    "    return count_of_element\n",
    "\n",
    "input_tuple = input(\"Type here (seperated by ',')\").split(',')\n",
    "input_ele = input(\"Type a element to count of occurence:\")\n",
    "\n",
    "tuple1 = tuple(input_tuple)\n",
    "\n",
    "result = func1(tuple1, input_ele)\n",
    "\n",
    "print(\"Count of Occurence of Input Element:\", result)"
   ]
  },
  {
   "cell_type": "code",
   "execution_count": 14,
   "id": "894ecd95-5e8f-4b6a-9157-2ffd31bc06cf",
   "metadata": {},
   "outputs": [
    {
     "name": "stdin",
     "output_type": "stream",
     "text": [
      "Type here (seperated by ',') 4,6,8,9,0\n",
      "Type here (seperated by ',') 0,7,1,6\n"
     ]
    },
    {
     "name": "stdout",
     "output_type": "stream",
     "text": [
      "Symmetric difference of sets: {'8', '9', '4', '1', '7'}\n"
     ]
    }
   ],
   "source": [
    "#(30) Develop a code that prompts the user to input two sets of strings. Then print the symmetric differnc of these two sets.\n",
    "\n",
    "input1 = input(\"Type here (seperated by ',')\").split(',')\n",
    "input2 = input(\"Type here (seperated by ',')\").split(',')\n",
    "\n",
    "set1 = set(input1)\n",
    "set2 = set(input2)\n",
    "\n",
    "symm_set = set1 ^ set2\n",
    "print(\"Symmetric difference of sets:\", symm_set)"
   ]
  },
  {
   "cell_type": "code",
   "execution_count": 29,
   "id": "f691511c-7a6c-417f-b6e8-e241835fe608",
   "metadata": {},
   "outputs": [
    {
     "name": "stdin",
     "output_type": "stream",
     "text": [
      "Type here (seperated by ',') orange,apple,apple,banana,kiwi,orange,grapes,orange\n"
     ]
    },
    {
     "name": "stdout",
     "output_type": "stream",
     "text": [
      "{'orange': 3, 'apple': 2, 'banana': 1, 'kiwi': 1, 'grapes': 1}\n"
     ]
    }
   ],
   "source": [
    "#(31) Write a code that takes a list of words as input and returns a dictionary where the keys are unique words and the values are the frequencies of those words in the input list.\n",
    "\n",
    "def func1(list1):\n",
    "    dic = {}\n",
    "    for i in list1:\n",
    "        dic[i] = list1.count(i)\n",
    "    return dic\n",
    "\n",
    "input_list = input(\"Type here (seperated by ',')\").split(',')\n",
    "\n",
    "result = func1(input_list)\n",
    "\n",
    "print(result)"
   ]
  },
  {
   "cell_type": "code",
   "execution_count": 31,
   "id": "2a01b8b8-b226-4b16-a667-7d955a38ef27",
   "metadata": {},
   "outputs": [
    {
     "name": "stdout",
     "output_type": "stream",
     "text": [
      "Merged Dictionary: {'a': 8, 'b': 7, 'c': 13, 'e': 9, 'd': 5, 'g': 2, 'h': 7}\n"
     ]
    }
   ],
   "source": [
    "#(32)  Write a code that takes two diction+ries as input and merges them into a single dictionary. If there are common keys the values should be added together.\n",
    "\n",
    "def func1(dic1, dic2):\n",
    "    merged_dic = dict(dic1)\n",
    "    \n",
    "    for key, value in dic2.items():\n",
    "        if key in merged_dic:\n",
    "            merged_dic[key] += value\n",
    "        else:\n",
    "            merged_dic[key] = value\n",
    "    \n",
    "    return merged_dic\n",
    "\n",
    "dic1 = {'a': 8, 'b': 4, 'c': 9, 'e': 9}\n",
    "dic2 = {'b': 3, 'c': 4, 'd': 5, 'g': 2, 'h': 7}\n",
    "\n",
    "result = func1(dic1, dic2)\n",
    "print(\"Merged Dictionary:\", result)"
   ]
  },
  {
   "cell_type": "code",
   "execution_count": 58,
   "id": "09d6defe-6b30-4780-9c4b-d582b4156650",
   "metadata": {},
   "outputs": [
    {
     "name": "stdout",
     "output_type": "stream",
     "text": [
      "[{'apple': 1, 'kiwi': 4, 'oranges': 3}, {'potato': 3, 'tomato': 5}]\n"
     ]
    }
   ],
   "source": [
    "#(33) Write a code to access a value in a nested dictionary. The function should take the dictionary and a list of \n",
    "# keys as input and return the corresponding values. If any of the keys do not exist in the dictionary the function\n",
    "# should return None.\n",
    "\n",
    "def func1(dic1, keys):\n",
    "    result = []\n",
    "    for key in keys:\n",
    "        if key not in dic1:\n",
    "            return None\n",
    "        else:\n",
    "            result.append(dic1[key])\n",
    "    return result\n",
    "\n",
    "\n",
    "dic1 = {\n",
    "    'fruits' : {\n",
    "        'apple' : 1,\n",
    "        'kiwi' : 4,\n",
    "        'oranges' : 3\n",
    "    },\n",
    "    \n",
    "    'vegetables' : {\n",
    "        'potato' : 3,\n",
    "        'tomato' : 5\n",
    "    }\n",
    "}\n",
    "\n",
    "keys = ['fruits', 'vegetables']\n",
    "\n",
    "print(func1(dic1, keys))"
   ]
  },
  {
   "cell_type": "code",
   "execution_count": 34,
   "id": "3a8ca910-86b1-46b8-84a9-0040c32f8765",
   "metadata": {},
   "outputs": [
    {
     "name": "stdout",
     "output_type": "stream",
     "text": [
      "{'b': 'apple', 'c': 'banana', 'd': 'kiwi', 'a': 'orange'}\n"
     ]
    }
   ],
   "source": [
    "#(34) Write a code that takes a dictionary as input and returns a sorted version of it based on the values. You \n",
    "# can choose whether to sort in ascending or descending order.\n",
    "\n",
    "def func1(dic1):\n",
    "    sorted_dic = {key: value for key, value in sorted(dic1.items(), key=lambda item: item[1])}\n",
    "    return sorted_dic\n",
    "\n",
    "dic1 = {\n",
    "    'a': 'orange',\n",
    "    'b': 'apple',\n",
    "    'c': 'banana',\n",
    "    'd': 'kiwi'\n",
    "}\n",
    "\n",
    "print(func1(dic1))"
   ]
  },
  {
   "cell_type": "code",
   "execution_count": 37,
   "id": "298c2b52-143b-465a-b7b6-02442169d9da",
   "metadata": {},
   "outputs": [
    {
     "name": "stdout",
     "output_type": "stream",
     "text": [
      "Inverted Dictionary: {45: ['a', 'e', 'i'], 32: 'b', 22: ['c', 'h'], 98: 'd', 43: 'g'}\n"
     ]
    }
   ],
   "source": [
    "#(35)  Write a code that inverts a dictionary swapping keys and values. Ensure that the inverted dictionary \n",
    "# correctly handles cases where multiple keys have the same value by storing the keys as a list in the \n",
    "# inverted dictionary.\n",
    "\n",
    "dic1 = {\n",
    "    'a' : 45,\n",
    "    'b' : 32,\n",
    "    'c' : 22,\n",
    "    'd' : 98,\n",
    "    'e' : 45,\n",
    "    'g' : 43,\n",
    "    'h' : 22,\n",
    "    'i' : 45\n",
    "}\n",
    "\n",
    "new_dic = {}\n",
    "for key, value in dic1.items():\n",
    "    if value in new_dic:\n",
    "        if isinstance(new_dic[value], list):\n",
    "            new_dic[value].append(key)\n",
    "        else:\n",
    "            new_dic[value] = [new_dic[value], key]\n",
    "    else:\n",
    "        new_dic[value] = key\n",
    "\n",
    "print(\"Inverted Dictionary:\", new_dic)   "
   ]
  },
  {
   "cell_type": "code",
   "execution_count": null,
   "id": "c04f67dd-5b20-4472-a405-a200152510d3",
   "metadata": {},
   "outputs": [],
   "source": []
  }
 ],
 "metadata": {
  "kernelspec": {
   "display_name": "Python 3 (ipykernel)",
   "language": "python",
   "name": "python3"
  },
  "language_info": {
   "codemirror_mode": {
    "name": "ipython",
    "version": 3
   },
   "file_extension": ".py",
   "mimetype": "text/x-python",
   "name": "python",
   "nbconvert_exporter": "python",
   "pygments_lexer": "ipython3",
   "version": "3.10.8"
  }
 },
 "nbformat": 4,
 "nbformat_minor": 5
}
